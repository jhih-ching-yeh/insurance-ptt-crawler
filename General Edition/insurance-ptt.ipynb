{
  "nbformat": 4,
  "nbformat_minor": 0,
  "metadata": {
    "colab": {
      "name": "保險版.ipynb",
      "provenance": [],
      "collapsed_sections": []
    },
    "kernelspec": {
      "name": "python3",
      "display_name": "Python 3"
    },
    "language_info": {
      "name": "python"
    }
  },
  "cells": [
    {
      "cell_type": "code",
      "metadata": {
        "id": "-43UuqoxfUIe",
        "colab": {
          "base_uri": "https://localhost:8080/"
        },
        "outputId": "3c094594-27fc-465b-87f0-d29b94e7dbb8"
      },
      "source": [
        "!pip install pykakasi"
      ],
      "execution_count": 1,
      "outputs": [
        {
          "output_type": "stream",
          "name": "stdout",
          "text": [
            "Requirement already satisfied: pykakasi in /usr/local/lib/python3.7/dist-packages (2.2.1)\n",
            "Requirement already satisfied: jaconv in /usr/local/lib/python3.7/dist-packages (from pykakasi) (0.3)\n",
            "Requirement already satisfied: deprecated in /usr/local/lib/python3.7/dist-packages (from pykakasi) (1.2.13)\n",
            "Requirement already satisfied: importlib-metadata in /usr/local/lib/python3.7/dist-packages (from pykakasi) (4.8.2)\n",
            "Requirement already satisfied: wrapt<2,>=1.10 in /usr/local/lib/python3.7/dist-packages (from deprecated->pykakasi) (1.13.3)\n",
            "Requirement already satisfied: zipp>=0.5 in /usr/local/lib/python3.7/dist-packages (from importlib-metadata->pykakasi) (3.6.0)\n",
            "Requirement already satisfied: typing-extensions>=3.6.4 in /usr/local/lib/python3.7/dist-packages (from importlib-metadata->pykakasi) (3.10.0.2)\n"
          ]
        }
      ]
    },
    {
      "cell_type": "code",
      "metadata": {
        "id": "XdYADo9TNIwT"
      },
      "source": [
        "import datetime\n",
        "import numpy as np\n",
        "import pandas as pd\n",
        "import requests\n",
        "import random\n",
        "import time\n",
        "import re\n",
        "import jieba as jb\n",
        "from bs4 import BeautifulSoup\n",
        "from plotly.offline import plot\n",
        "from keras.preprocessing.text import Tokenizer\n",
        "from keras.preprocessing.sequence import pad_sequences\n",
        "from PIL import Image\n",
        "import matplotlib.pyplot as plt\n",
        "from matplotlib.font_manager import FontProperties\n",
        "from wordcloud import WordCloud, STOPWORDS\n",
        "import cv2, requests, jieba, pykakasi\n",
        "from PIL import Image # 圖片轉array陣列\n",
        "import wordcloud # 文字雲"
      ],
      "execution_count": 3,
      "outputs": []
    },
    {
      "cell_type": "markdown",
      "source": [
        "# Insurance PTT crawler"
      ],
      "metadata": {
        "id": "imGViJVdGHfN"
      }
    },
    {
      "cell_type": "code",
      "metadata": {
        "colab": {
          "base_uri": "https://localhost:8080/"
        },
        "id": "gtfvDPT5JQXk",
        "outputId": "482a440d-69b6-4569-ea6d-527395dc9511"
      },
      "source": [
        "# *** 選擇表格排序的依據 ***\n",
        "while True: \n",
        "    try:\n",
        "      print(\"請問要要怎麼排序表格?\")\n",
        "      sort_ = int(input('輸入1表示按照「日期」，輸入2表示按照「推廣數」:'))\n",
        "      if sort_ == 1:\n",
        "        sort_index = 'date'\n",
        "        print(\"您選擇的排序方式是「日期」\")\n",
        "        break\n",
        "      elif sort_ == 2:\n",
        "        sort_index = 'push_num'\n",
        "        print(\"您選擇的排序方式是「推廣數」\")\n",
        "        break\n",
        "      else:\n",
        "        print(\"輸入錯誤！\")\n",
        "    except:\n",
        "        print(\"輸入錯誤！\")"
      ],
      "execution_count": 4,
      "outputs": [
        {
          "output_type": "stream",
          "name": "stdout",
          "text": [
            "請問要要怎麼排序表格?\n",
            "輸入1表示按照「日期」，輸入2表示按照「推廣數」:1\n",
            "您選擇的排序方式是「日期」\n"
          ]
        }
      ]
    },
    {
      "cell_type": "code",
      "metadata": {
        "colab": {
          "base_uri": "https://localhost:8080/"
        },
        "id": "INubJSpjNOWh",
        "outputId": "435f2555-106b-4660-c85d-17eb96d6781e"
      },
      "source": [
        "# *** 選擇從哪天開始爬取文章 ***\n",
        "while True: \n",
        "    try:\n",
        "        print(\"請問要從哪一天開始抓取保險版一週的文章?\")\n",
        "        year = int(input('年(Year):'))\n",
        "        month = int(input('月(month):'))\n",
        "        day = int(input('日(day):'))\n",
        "        datetime_date = datetime.date(year, month, day)\n",
        "        break\n",
        "    except:\n",
        "        print(\"請輸入正確的年份、月份、日期\")\n",
        "\n",
        "# 為期一週\n",
        "date_range = []\n",
        "for i in range(7):\n",
        "    date = (datetime_date - datetime.timedelta(days=i)).strftime('%m/%d').lstrip('0')\n",
        "    date_range.append(date)\n",
        "    \n",
        "print(\"您選擇的日期範圍為\",date_range)"
      ],
      "execution_count": 5,
      "outputs": [
        {
          "output_type": "stream",
          "name": "stdout",
          "text": [
            "請問要從哪一天開始抓取保險版一週的文章?\n",
            "年(Year):2021\n",
            "月(month):12\n",
            "日(day):15\n",
            "您選擇的日期範圍為 ['12/15', '12/14', '12/13', '12/12', '12/11', '12/10', '12/09']\n"
          ]
        }
      ]
    },
    {
      "cell_type": "code",
      "metadata": {
        "id": "HjXJbDXiNRcz"
      },
      "source": [
        "def get_ppt_page(url):\n",
        "    resp = requests.get(url=url)\n",
        "    if resp.status_code != 200:\n",
        "        print('Invalid url:', resp.url)\n",
        "        return None\n",
        "    else:\n",
        "        return resp.text"
      ],
      "execution_count": 6,
      "outputs": []
    },
    {
      "cell_type": "code",
      "metadata": {
        "id": "8IMLPSmNNXFQ"
      },
      "source": [
        "def get_pageinfo(resdata,domain_url):\n",
        "    soup = BeautifulSoup(resdata, 'html5lib')\n",
        "    # 取得上一頁按鈕\n",
        "    paging_div = soup.find('div', 'btn-group btn-group-paging')\n",
        "    prev_url = paging_div.find_all('a')[1]['href']\n",
        "    \n",
        "    # 儲存取得的文章資料<div class=\"r-ent\"></div>\n",
        "    pptdata = []  \n",
        "    date_divs = soup.find_all('div', 'r-ent')\n",
        "    \n",
        "    num = 0\n",
        "    whether_prev = True\n",
        "    for k in date_divs:\n",
        "        # 判斷文章是否在一週內發佈\n",
        "        week_date = k.find('div', 'date').text.strip() in date_range\n",
        "        \n",
        "        # 代表最早的日期，就不符合條件，所以不用下一頁\n",
        "        if num == 0:\n",
        "            if week_date == False:\n",
        "                whether_prev = False\n",
        "        # 一周內發布       \n",
        "        if week_date:\n",
        "            # 發布日期\n",
        "            post_date = k.find('div', 'date').text.strip()\n",
        "            #print(\"發布日期\",post_date)\n",
        "            \n",
        "            # 推文數\n",
        "            push_count = k.find('div', 'nrec').text\n",
        "            push_num = 0\n",
        "            if push_count:\n",
        "                try:\n",
        "                    push_num = int(push_count)  \n",
        "                except ValueError:\n",
        "                    # 若轉換失敗，可能是'爆'或 'X1', 'X2'\n",
        "                    if push_count == '爆':\n",
        "                        push_num = 100\n",
        "                    elif push_count.startswith('X'):\n",
        "                        push_num = -100\n",
        "                    else:\n",
        "                        push_num = 0\n",
        "            #print(\"推文數\",push_num)\n",
        "            \n",
        "            # 有超連結，代表文章存在\n",
        "            if k.find('a'): \n",
        "                # 文章標題\n",
        "                title = k.find('a').text\n",
        "                #print(\"標題\",title)\n",
        "                # 文章連結\n",
        "                href = k.find('a')['href']\n",
        "                #print(\"標題連結\",domain_url+href)\n",
        "                \n",
        "                pptdata.append({\n",
        "                    'date': post_date,\n",
        "                    'push_num': push_num,\n",
        "                    'title': title,\n",
        "                    'href': domain_url+href\n",
        "                })\n",
        "        \n",
        "        #每做完一次，num+1\n",
        "        num = num + 1 \n",
        "    df = pd.DataFrame(pptdata, columns=['date','push_num', 'title', 'href'])\n",
        "    \n",
        "    return prev_url,df,whether_prev\n",
        "\n",
        "#https://www.ptt.cc/bbs/Insurance/M.1620735794.A.AFE.html"
      ],
      "execution_count": 7,
      "outputs": []
    },
    {
      "cell_type": "code",
      "metadata": {
        "id": "U8PbVe6JNbH_"
      },
      "source": [
        "if __name__ == '__main__':\n",
        "    # *** 選擇保險版 ***\n",
        "    domain_url = 'https://www.ptt.cc'\n",
        "    Insurance = '/bbs/Insurance/index.html'\n",
        "    # 第一頁\n",
        "    web_url = domain_url + Insurance\n",
        "    #print(web_url)\n",
        "    ppt_page = get_ppt_page(web_url)\n",
        "    prev_href,df,whether_prev = get_pageinfo(ppt_page,domain_url) \n",
        "    \n",
        "    # 往前一頁\n",
        "    while whether_prev:\n",
        "        web_url = domain_url+prev_href\n",
        "        #print(web_url)\n",
        "        ppt_page = get_ppt_page(web_url)\n",
        "        prev_href,df_next,whether_prev = get_pageinfo(ppt_page,domain_url) \n",
        "        df = pd.concat([df,df_next])\n",
        "   \n",
        "    df.index = df[sort_index]\n",
        "    df = df.sort_index(ascending=False)\n",
        "    df = df.reset_index(drop=True)"
      ],
      "execution_count": 8,
      "outputs": []
    },
    {
      "cell_type": "code",
      "metadata": {
        "colab": {
          "base_uri": "https://localhost:8080/",
          "height": 206
        },
        "id": "TXTG2EsgNdqL",
        "outputId": "bc2b2428-52a9-4f62-c69a-9eaa3919ccd6"
      },
      "source": [
        "df.head(5)"
      ],
      "execution_count": 9,
      "outputs": [
        {
          "output_type": "execute_result",
          "data": {
            "text/html": [
              "<div>\n",
              "<style scoped>\n",
              "    .dataframe tbody tr th:only-of-type {\n",
              "        vertical-align: middle;\n",
              "    }\n",
              "\n",
              "    .dataframe tbody tr th {\n",
              "        vertical-align: top;\n",
              "    }\n",
              "\n",
              "    .dataframe thead th {\n",
              "        text-align: right;\n",
              "    }\n",
              "</style>\n",
              "<table border=\"1\" class=\"dataframe\">\n",
              "  <thead>\n",
              "    <tr style=\"text-align: right;\">\n",
              "      <th></th>\n",
              "      <th>date</th>\n",
              "      <th>push_num</th>\n",
              "      <th>title</th>\n",
              "      <th>href</th>\n",
              "    </tr>\n",
              "  </thead>\n",
              "  <tbody>\n",
              "    <tr>\n",
              "      <th>0</th>\n",
              "      <td>12/15</td>\n",
              "      <td>0</td>\n",
              "      <td>[險種] 實支實付，意外，醫療</td>\n",
              "      <td>https://www.ptt.cc/bbs/Insurance/M.1639571908....</td>\n",
              "    </tr>\n",
              "    <tr>\n",
              "      <th>1</th>\n",
              "      <td>12/15</td>\n",
              "      <td>0</td>\n",
              "      <td>[險種] 34歲女 既有保單檢視及新保單規劃</td>\n",
              "      <td>https://www.ptt.cc/bbs/Insurance/M.1639501250....</td>\n",
              "    </tr>\n",
              "    <tr>\n",
              "      <th>2</th>\n",
              "      <td>12/15</td>\n",
              "      <td>4</td>\n",
              "      <td>[討論] 保經 公X vsX律哪個好</td>\n",
              "      <td>https://www.ptt.cc/bbs/Insurance/M.1639564404....</td>\n",
              "    </tr>\n",
              "    <tr>\n",
              "      <th>3</th>\n",
              "      <td>12/15</td>\n",
              "      <td>0</td>\n",
              "      <td>[理賠] 興農生活大師終身保險計畫B</td>\n",
              "      <td>https://www.ptt.cc/bbs/Insurance/M.1639558642....</td>\n",
              "    </tr>\n",
              "    <tr>\n",
              "      <th>4</th>\n",
              "      <td>12/15</td>\n",
              "      <td>0</td>\n",
              "      <td>[險種] 33歲男既有保單檢視及規劃</td>\n",
              "      <td>https://www.ptt.cc/bbs/Insurance/M.1639552854....</td>\n",
              "    </tr>\n",
              "  </tbody>\n",
              "</table>\n",
              "</div>"
            ],
            "text/plain": [
              "    date  ...                                               href\n",
              "0  12/15  ...  https://www.ptt.cc/bbs/Insurance/M.1639571908....\n",
              "1  12/15  ...  https://www.ptt.cc/bbs/Insurance/M.1639501250....\n",
              "2  12/15  ...  https://www.ptt.cc/bbs/Insurance/M.1639564404....\n",
              "3  12/15  ...  https://www.ptt.cc/bbs/Insurance/M.1639558642....\n",
              "4  12/15  ...  https://www.ptt.cc/bbs/Insurance/M.1639552854....\n",
              "\n",
              "[5 rows x 4 columns]"
            ]
          },
          "metadata": {},
          "execution_count": 9
        }
      ]
    },
    {
      "cell_type": "markdown",
      "source": [
        "# WordClouds"
      ],
      "metadata": {
        "id": "ex5SqhkeGOMt"
      }
    },
    {
      "cell_type": "code",
      "metadata": {
        "id": "6h2MzXBINr7S"
      },
      "source": [
        "# 定義刪除除字母漢字以外的所有符號的函數\n",
        "def remove_punctuation(line):\n",
        "    line = str(line)\n",
        "    if line.strip()=='':\n",
        "        return ''\n",
        "    rule = re.compile(u\"[^a-zA-Z\\u4E00-\\u9FA5]\")\n",
        "    line = rule.sub('',line)\n",
        "    return line"
      ],
      "execution_count": 10,
      "outputs": []
    },
    {
      "cell_type": "code",
      "metadata": {
        "id": "QxSHcuw-Oq7O"
      },
      "source": [
        "# 加载停用词\n",
        "def stopwordslist():  \n",
        "    filepath = \"/content/drive/MyDrive/國泰實習/國泰ptt爬蟲/Ref/NEW_ChineseStopWords.txt\"\n",
        "    stopwords = [line.strip() for line in open(filepath, 'r', encoding='utf-8').readlines()]  \n",
        "    return stopwords  "
      ],
      "execution_count": 11,
      "outputs": []
    },
    {
      "cell_type": "code",
      "metadata": {
        "id": "jYTzjEsaNggi"
      },
      "source": [
        "# 刪除除漢字以外的所有符號\n",
        "df[\"clean_title\"] = df[\"title\"].apply(remove_punctuation)"
      ],
      "execution_count": 12,
      "outputs": []
    },
    {
      "cell_type": "code",
      "metadata": {
        "id": "UXYvuWELNRsI",
        "colab": {
          "base_uri": "https://localhost:8080/"
        },
        "outputId": "a7124a8b-e142-4121-d170-7348d6e75fed"
      },
      "source": [
        "# 刪除停用詞\n",
        "stopwords_list = stopwordslist()\n",
        "df[\"cut_title\"] = df[\"clean_title\"].apply(lambda x: \",\".join([w for w in list(jb.cut(x)) if w not in stopwords_list]))"
      ],
      "execution_count": 13,
      "outputs": [
        {
          "output_type": "stream",
          "name": "stderr",
          "text": [
            "Building prefix dict from the default dictionary ...\n",
            "Loading model from cache /tmp/jieba.cache\n",
            "Loading model cost 1.112 seconds.\n",
            "Prefix dict has been built successfully.\n"
          ]
        }
      ]
    },
    {
      "cell_type": "code",
      "metadata": {
        "id": "Ue2zqBoyXn0M"
      },
      "source": [
        "# 刪除自訂詞\n",
        "delete_word = ['保險','保單','歲']\n",
        "df[\"cut_title\"] = df[\"cut_title\"].apply(lambda x: \",\".join([w for w in list(jb.cut(x)) if w not in delete_word]))"
      ],
      "execution_count": 14,
      "outputs": []
    },
    {
      "cell_type": "code",
      "metadata": {
        "id": "o2FLfdl1goxh"
      },
      "source": [
        "def word_dict(df):\n",
        "    wds = ''\n",
        "    x = df[\"cut_title\"].values\n",
        "\n",
        "    # 總詞彙矩陣\n",
        "    all_word = []\n",
        "    for i in range(len(df)):\n",
        "        i_word = x[i].split(\",\")\n",
        "        all_word = np.hstack((all_word,i_word))\n",
        "\n",
        "    # 總詞彙txt\n",
        "    wds =\",\".join(all_word)\n",
        "\n",
        "    # 詞彙字典與頻率\n",
        "    dic={}\n",
        "    for word in all_word:\n",
        "        if word not in dic:\n",
        "            dic[word] = 1\n",
        "        else:\n",
        "            dic[word] = dic[word] + 1  \n",
        "\n",
        "    # 總詞彙表\n",
        "    keyword = pd.DataFrame(list(dic.items()), columns=['Keyword', 'Frequency'])\n",
        "    keyword.index = keyword['Frequency']\n",
        "    keyword = keyword.sort_index(ascending=False)\n",
        "    keyword = keyword.reset_index(drop=True)\n",
        "\n",
        "    return wds, keyword"
      ],
      "execution_count": 15,
      "outputs": []
    },
    {
      "cell_type": "code",
      "metadata": {
        "id": "On04gRYFCvG-"
      },
      "source": [
        "wds, keyword = word_dict(df)"
      ],
      "execution_count": 16,
      "outputs": []
    },
    {
      "cell_type": "code",
      "metadata": {
        "id": "u2vQ-fwEKCwe",
        "colab": {
          "base_uri": "https://localhost:8080/",
          "height": 424
        },
        "outputId": "53be4dc0-0dd5-400c-eb16-1771d07fd0c5"
      },
      "source": [
        "# 以表格顯示關鍵詞\n",
        "keyword"
      ],
      "execution_count": 17,
      "outputs": [
        {
          "output_type": "execute_result",
          "data": {
            "text/html": [
              "<div>\n",
              "<style scoped>\n",
              "    .dataframe tbody tr th:only-of-type {\n",
              "        vertical-align: middle;\n",
              "    }\n",
              "\n",
              "    .dataframe tbody tr th {\n",
              "        vertical-align: top;\n",
              "    }\n",
              "\n",
              "    .dataframe thead th {\n",
              "        text-align: right;\n",
              "    }\n",
              "</style>\n",
              "<table border=\"1\" class=\"dataframe\">\n",
              "  <thead>\n",
              "    <tr style=\"text-align: right;\">\n",
              "      <th></th>\n",
              "      <th>Keyword</th>\n",
              "      <th>Frequency</th>\n",
              "    </tr>\n",
              "  </thead>\n",
              "  <tbody>\n",
              "    <tr>\n",
              "      <th>0</th>\n",
              "      <td></td>\n",
              "      <td>358</td>\n",
              "    </tr>\n",
              "    <tr>\n",
              "      <th>1</th>\n",
              "      <td>險種</td>\n",
              "      <td>20</td>\n",
              "    </tr>\n",
              "    <tr>\n",
              "      <th>2</th>\n",
              "      <td>規劃</td>\n",
              "      <td>14</td>\n",
              "    </tr>\n",
              "    <tr>\n",
              "      <th>3</th>\n",
              "      <td>女</td>\n",
              "      <td>13</td>\n",
              "    </tr>\n",
              "    <tr>\n",
              "      <th>4</th>\n",
              "      <td>檢視</td>\n",
              "      <td>8</td>\n",
              "    </tr>\n",
              "    <tr>\n",
              "      <th>...</th>\n",
              "      <td>...</td>\n",
              "      <td>...</td>\n",
              "    </tr>\n",
              "    <tr>\n",
              "      <th>82</th>\n",
              "      <td>乙式</td>\n",
              "      <td>1</td>\n",
              "    </tr>\n",
              "    <tr>\n",
              "      <th>83</th>\n",
              "      <td>教</td>\n",
              "      <td>1</td>\n",
              "    </tr>\n",
              "    <tr>\n",
              "      <th>84</th>\n",
              "      <td>丙式</td>\n",
              "      <td>1</td>\n",
              "    </tr>\n",
              "    <tr>\n",
              "      <th>85</th>\n",
              "      <td>富邦</td>\n",
              "      <td>1</td>\n",
              "    </tr>\n",
              "    <tr>\n",
              "      <th>86</th>\n",
              "      <td>疾病</td>\n",
              "      <td>1</td>\n",
              "    </tr>\n",
              "  </tbody>\n",
              "</table>\n",
              "<p>87 rows × 2 columns</p>\n",
              "</div>"
            ],
            "text/plain": [
              "   Keyword  Frequency\n",
              "0                 358\n",
              "1       險種         20\n",
              "2       規劃         14\n",
              "3        女         13\n",
              "4       檢視          8\n",
              "..     ...        ...\n",
              "82      乙式          1\n",
              "83       教          1\n",
              "84      丙式          1\n",
              "85      富邦          1\n",
              "86      疾病          1\n",
              "\n",
              "[87 rows x 2 columns]"
            ]
          },
          "metadata": {},
          "execution_count": 17
        }
      ]
    },
    {
      "cell_type": "code",
      "metadata": {
        "id": "smVnPyrvPYwV",
        "colab": {
          "base_uri": "https://localhost:8080/",
          "height": 248
        },
        "outputId": "b0669e5b-b100-4069-b132-211cdfe14a5a"
      },
      "source": [
        "# 以文字雲顯示關鍵詞\n",
        "pic = '/content/drive/MyDrive/國泰實習/國泰ptt爬蟲/Ref/cathay tree.png'\n",
        "fntName = '/content/drive/MyDrive/國泰實習/國泰ptt爬蟲/Ref/華康秀風體.TTF'\n",
        "img = cv2.imread(pic)\n",
        "wc = WordCloud(background_color=\"white\", font_path=fntName,stopwords=set(STOPWORDS), max_words=100,max_font_size=200,mask=img)\n",
        "wc.generate(wds)\n",
        "plt.axis(False)\n",
        "_=plt.imshow(wc)"
      ],
      "execution_count": 18,
      "outputs": [
        {
          "output_type": "display_data",
          "data": {
            "image/png": "[encoded data removed]",
            "text/plain": [
              "<Figure size 432x288 with 1 Axes>"
            ]
          },
          "metadata": {
            "needs_background": "light"
          }
        }
      ]
    },
    {
      "cell_type": "code",
      "metadata": {
        "id": "WphTywDCPkNQ",
        "colab": {
          "base_uri": "https://localhost:8080/"
        },
        "outputId": "633e1de0-86c8-46bf-8252-e861ce8203a5"
      },
      "source": [
        "wc.to_file('/content/drive/MyDrive/國泰實習/國泰ptt爬蟲/test.jpg')"
      ],
      "execution_count": 19,
      "outputs": [
        {
          "output_type": "execute_result",
          "data": {
            "text/plain": [
              "<wordcloud.wordcloud.WordCloud at 0x7ffb28a5ae50>"
            ]
          },
          "metadata": {},
          "execution_count": 19
        }
      ]
    }
  ]
}